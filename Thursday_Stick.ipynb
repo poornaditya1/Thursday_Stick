{
  "nbformat": 4,
  "nbformat_minor": 0,
  "metadata": {
    "colab": {
      "name": "Thursday_Stick.ipynb",
      "provenance": [],
      "include_colab_link": true
    },
    "kernelspec": {
      "name": "python3",
      "display_name": "Python 3"
    }
  },
  "cells": [
    {
      "cell_type": "markdown",
      "metadata": {
        "id": "view-in-github",
        "colab_type": "text"
      },
      "source": [
        "<a href=\"https://colab.research.google.com/github/poornaditya1/Thursday_Stick/blob/master/Thursday_Stick.ipynb\" target=\"_parent\"><img src=\"https://colab.research.google.com/assets/colab-badge.svg\" alt=\"Open In Colab\"/></a>"
      ]
    },
    {
      "cell_type": "code",
      "metadata": {
        "id": "oBs04fJQ-dAp"
      },
      "source": [
        "from keras.applications.imagenet_utils import preprocess_input, decode_predictions\n",
        "from keras.models import load_model\n",
        "from keras.preprocessing import image\n",
        "from keras.applications.resnet50 import ResNet50\n",
        "import numpy as np\n",
        "\n",
        "\n",
        "\n",
        "model = ResNet50(weights='imagenet')"
      ],
      "execution_count": 1,
      "outputs": []
    },
    {
      "cell_type": "code",
      "metadata": {
        "id": "qfgnK3G3rtyp",
        "outputId": "2c8c9b6e-db45-4c6f-ccad-1c685d547a0c",
        "colab": {
          "resources": {
            "http://localhost:8080/nbextensions/google.colab/files.js": {
              "data": "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",
              "ok": true,
              "headers": [
                [
                  "content-type",
                  "application/javascript"
                ]
              ],
              "status": 200,
              "status_text": "OK"
            }
          },
          "base_uri": "https://localhost:8080/",
          "height": 73
        }
      },
      "source": [
        "from google.colab import files\n",
        "uploaded = files.upload()\n",
        "for fn in uploaded.keys():\n",
        " \n",
        "  # predicting images\n",
        "  path = fn\n",
        "  img = image.load_img(path, target_size=(224, 224))\n",
        "  numpy_image = image.img_to_array(img)\n",
        "  image_batch = np.expand_dims(numpy_image, axis=0)"
      ],
      "execution_count": 2,
      "outputs": [
        {
          "output_type": "display_data",
          "data": {
            "text/html": [
              "\n",
              "     <input type=\"file\" id=\"files-01ce4d4e-4fc3-4f25-a7d3-38ed5c975cc9\" name=\"files[]\" multiple disabled\n",
              "        style=\"border:none\" />\n",
              "     <output id=\"result-01ce4d4e-4fc3-4f25-a7d3-38ed5c975cc9\">\n",
              "      Upload widget is only available when the cell has been executed in the\n",
              "      current browser session. Please rerun this cell to enable.\n",
              "      </output>\n",
              "      <script src=\"/nbextensions/google.colab/files.js\"></script> "
            ],
            "text/plain": [
              "<IPython.core.display.HTML object>"
            ]
          },
          "metadata": {
            "tags": []
          }
        },
        {
          "output_type": "stream",
          "text": [
            "Saving test.jpg to test (2).jpg\n"
          ],
          "name": "stdout"
        }
      ]
    },
    {
      "cell_type": "code",
      "metadata": {
        "id": "mLct1LzdlHNR"
      },
      "source": [
        "processed_image = preprocess_input(image_batch, mode='caffe')"
      ],
      "execution_count": 3,
      "outputs": []
    },
    {
      "cell_type": "code",
      "metadata": {
        "id": "r3t9olUilivC"
      },
      "source": [
        "preds = model.predict(processed_image)\n",
        "pred_class = decode_predictions(preds, top=1)"
      ],
      "execution_count": 4,
      "outputs": []
    },
    {
      "cell_type": "code",
      "metadata": {
        "id": "cufwTs8RmghO",
        "outputId": "f401e2bd-0776-4ecd-d6ad-007fe27ea198",
        "colab": {
          "base_uri": "https://localhost:8080/",
          "height": 35
        }
      },
      "source": [
        "def remove(string): \n",
        "    return string.replace(\"_\", \" \") \n",
        "      \n",
        "string = pred_class[0][0][1]\n",
        "print(remove(string)) "
      ],
      "execution_count": 5,
      "outputs": [
        {
          "output_type": "stream",
          "text": [
            "dining table\n"
          ],
          "name": "stdout"
        }
      ]
    },
    {
      "cell_type": "code",
      "metadata": {
        "id": "IxXFPa6tL_Di",
        "outputId": "5cb4d350-4f84-4191-b9ec-00dd7f2c3b42",
        "colab": {
          "base_uri": "https://localhost:8080/",
          "height": 61
        }
      },
      "source": [
        "from gtts import gTTS \n",
        "from IPython.display import Audio\n",
        "tts = gTTS(remove(string)) \n",
        "tts.save('output.mp4')\n",
        "sound_file = 'output.mp4'\n",
        "Audio(sound_file, autoplay=True) "
      ],
      "execution_count": 6,
      "outputs": [
        {
          "output_type": "execute_result",
          "data": {
            "text/html": [
              "\n",
              "                <audio controls=\"controls\" autoplay=\"autoplay\">\n",
              "                    <source src=\"data:video/mp4;base64,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\" type=\"video/mp4\" />\n",
              "                    Your browser does not support the audio element.\n",
              "                </audio>\n",
              "              "
            ],
            "text/plain": [
              "<IPython.lib.display.Audio object>"
            ]
          },
          "metadata": {
            "tags": []
          },
          "execution_count": 6
        }
      ]
    },
    {
      "cell_type": "code",
      "metadata": {
        "id": "CH6huk9O7MKS"
      },
      "source": [
        ""
      ],
      "execution_count": null,
      "outputs": []
    }
  ]
}